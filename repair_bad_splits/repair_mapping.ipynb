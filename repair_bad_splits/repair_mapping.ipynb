{
 "metadata": {
  "name": "",
  "signature": "sha256:2aa5a3730a115979cabeeb197b5ddf628721919bdf5c45278a75fa1ff4327791"
 },
 "nbformat": 3,
 "nbformat_minor": 0,
 "worksheets": [
  {
   "cells": [
    {
     "cell_type": "heading",
     "level": 2,
     "metadata": {},
     "source": [
      "Repair exports with bad mappings"
     ]
    },
    {
     "cell_type": "markdown",
     "metadata": {},
     "source": [
      "This notebook repairs an export from a Raveler session with bad mappings. Specifically, we're talking about the problems that happen when a problem with a superpixel split causes superpixel bitmaps to be rewritten but the corresponding sp-seg maps to be left unchanged. The session will fail to save (fully) and will be corrupt, although the corruption will be limited to the areas where the sp splits occured. Probably those sp will show uncolored in Raveler, and if you click them, you'll get an error.\n",
      "\n",
      "In an export, the sp-seg map will not have entries for these superpixels. That will cause problems for downstream processors. In this case, DVID was unable to generate a label map for the session.\n",
      "\n",
      "The solution is fairly straightforward. If you're working from an export, simple scan each of the exported superpixel images. For any superpixel IDs present on an image plane but not in the sp-seg map, create a new segment and new body. Append the mappings to the existing sp-seg and seg body maps."
     ]
    },
    {
     "cell_type": "heading",
     "level": 2,
     "metadata": {},
     "source": [
      "General tools"
     ]
    },
    {
     "cell_type": "code",
     "collapsed": false,
     "input": [
      "# std lib\n",
      "import os\n",
      "import time\n",
      "\n",
      "# other libs\n",
      "import numpy\n",
      "\n",
      "import Image"
     ],
     "language": "python",
     "metadata": {},
     "outputs": [],
     "prompt_number": 1
    },
    {
     "cell_type": "markdown",
     "metadata": {},
     "source": [
      "We need to read and rewrite our sp-seg and seg-body maps. The files are large, so we don't want to read them fully into memory. On the read size, we want the max superpixel per plane, and the max seg and body overall."
     ]
    },
    {
     "cell_type": "code",
     "collapsed": false,
     "input": [
      "def findmaxsuperpixels(filepath):\n",
      "    maxsp = {}\n",
      "    currentmax = 0\n",
      "    for line in open(filepath, 'rt'):\n",
      "        line = line.strip()\n",
      "        if line and not line.startswith(\"#\"):\n",
      "            items = line.split()\n",
      "            z = int(items[0])\n",
      "            spid = int(items[1])\n",
      "            # don't care about seg ID at this point\n",
      "            currentmax = maxsp.setdefault(z, 0)\n",
      "            if spid > currentmax:\n",
      "                maxsp[z] = spid\n",
      "    return maxsp"
     ],
     "language": "python",
     "metadata": {},
     "outputs": [],
     "prompt_number": 2
    },
    {
     "cell_type": "code",
     "collapsed": false,
     "input": [
      "def findmaxsegbody(filepath):\n",
      "    maxseg = 0\n",
      "    maxbody = 0\n",
      "    for line in open(filepath, 'rt'):\n",
      "        line = line.strip()\n",
      "        if line and not line.startswith(\"#\"):\n",
      "            items = line.split()\n",
      "            maxseg = max(maxseg, int(items[0]))\n",
      "            maxbody = max(maxbody, int(items[1]))\n",
      "    return maxseg, maxbody"
     ],
     "language": "python",
     "metadata": {},
     "outputs": [],
     "prompt_number": 3
    },
    {
     "cell_type": "markdown",
     "metadata": {},
     "source": [
      "Given max sp in each plane in the maps and in the sp images, and the max seg and body IDs, find the new mappings."
     ]
    },
    {
     "cell_type": "code",
     "collapsed": false,
     "input": [
      "def findnewmappings(maxspimage, maxspmap, maxseg, maxbody):\n",
      "    \"\"\"\n",
      "    input: {z: max sp} from bitmap impages; {z: max sp} from text file; max seg and body IDs\n",
      "    output: ({(z, spid): segid}, {segid, bodyid}) for sp in image but not text file\n",
      "    \"\"\"\n",
      "    newspseg = {}\n",
      "    newsegbody = {}\n",
      "    for z in maxspimage:\n",
      "        if maxspimage[z] > maxspmap[z]:\n",
      "            # got to allow for more than one!\n",
      "            for newsp in range(maxspmap[z], maxspimage[z] + 1):\n",
      "                maxseg += 1\n",
      "                maxbody += 1\n",
      "                newspseg[z, newsp] = maxseg\n",
      "                newsegbody[maxseg] = maxbody\n",
      "    return newspseg, newsegbody"
     ],
     "language": "python",
     "metadata": {},
     "outputs": [],
     "prompt_number": 4
    },
    {
     "cell_type": "markdown",
     "metadata": {},
     "source": [
      "For writing, we'll just append lines at the end of the map files rather than read/rewrite:"
     ]
    },
    {
     "cell_type": "code",
     "collapsed": false,
     "input": [
      "def appendspmapping(filepath, mapping):\n",
      "    # note 'a' = append\n",
      "    with open(filepath, 'at') as f:\n",
      "        for (z, spid), segid in mapping.items():\n",
      "            f.write(\"%d\\t%d\\t%d\\n\" % (z, spid, segid))\n",
      "def appendsegmapping(filepath, mapping):\n",
      "    # note 'a' = append\n",
      "    with open(filepath, 'at') as f:\n",
      "        for segid, bodyid in mapping.items():\n",
      "            f.write(\"%d\\t%d\\n\" % (segid, bodyid))"
     ],
     "language": "python",
     "metadata": {},
     "outputs": [],
     "prompt_number": 5
    },
    {
     "cell_type": "markdown",
     "metadata": {},
     "source": [
      "Read a superpixel image plane and translate its RGBA pixels into superpixel IDs:"
     ]
    },
    {
     "cell_type": "code",
     "collapsed": false,
     "input": [
      "def readsuperpixelmap(filepath):\n",
      "    \"\"\"\n",
      "    reads an RGBA sp map and returns an array of its superpixels,\n",
      "    translated into 32 bit ints as we usually do it\n",
      "    \"\"\"\n",
      "    im = Image.open(filepath)\n",
      "    if im.mode != \"RGBA\":\n",
      "        raise ValueError(\"can only handle RGBA sp maps\")\n",
      "    a = numpy.asarray(im)\n",
      "    # note the ordering, and note we ignore the A channel\n",
      "    return a[:, :, 0] + a[:, :, 1] * 256 + a[:, :, 2] * 256 * 256"
     ],
     "language": "python",
     "metadata": {},
     "outputs": [],
     "prompt_number": 6
    },
    {
     "cell_type": "heading",
     "level": 2,
     "metadata": {},
     "source": [
      "Find planes with modified tiles"
     ]
    },
    {
     "cell_type": "markdown",
     "metadata": {},
     "source": [
      "Sometimes we will not know which planes have problems. Fortunately, rather than scan the whole stack, we can look in the session's tiles directory. "
     ]
    },
    {
     "cell_type": "code",
     "collapsed": false,
     "input": [
      "def findmodifiedplanes(sessiondir):\n",
      "    \"\"\"\n",
      "    given path to session, return set of planes that have at least\n",
      "    one modified tile\n",
      "    \"\"\"\n",
      "    \n",
      "    planes = set()\n",
      "    for currdir, subdirs, filenames in os.walk(os.path.join(sessiondir, \"tiles\", \"1024\", \"0\")):\n",
      "        for name in filenames:\n",
      "            if name.endswith(\".png\"):\n",
      "                planes.add(int(name[:-4]))\n",
      "    return planes"
     ],
     "language": "python",
     "metadata": {},
     "outputs": [],
     "prompt_number": 7
    },
    {
     "cell_type": "heading",
     "level": 2,
     "metadata": {},
     "source": [
      "FIB-25 fix, August 2014 -- from export"
     ]
    },
    {
     "cell_type": "markdown",
     "metadata": {},
     "source": [
      "NOTE: this is obsolete. See version two, below."
     ]
    },
    {
     "cell_type": "markdown",
     "metadata": {},
     "source": [
      "In the first half of 2014, we were working on FIB-25. Our seeded body split tool at this time had a bug which resulted in the kinds of errors discussed above. We're going to fix it.\n",
      "\n",
      "The text maps come from the exportdir, while the images are loaded from the imagedir."
     ]
    },
    {
     "cell_type": "code",
     "collapsed": false,
     "input": [
      "exportdir = \"/groups/flyem/data/medulla-FIB-Z1211-25-production/align2/stitched_layers/1-13_0-8089_extended_20140518T072142/raveler-export\"\n",
      "imagedir = \"/groups/flyem/data/medulla-FIB-Z1211-25-production/align2/stitched_layers/export/shinya1-13_20140715/\""
     ],
     "language": "python",
     "metadata": {},
     "outputs": [],
     "prompt_number": 7
    },
    {
     "cell_type": "markdown",
     "metadata": {},
     "source": [
      "First, I copied the sp to seg and seg to body maps for safety (.orig suffix). I didn't do that in this notebook because it should not be repeated later. Note that these files are rather large (2-3 Gb)."
     ]
    },
    {
     "cell_type": "markdown",
     "metadata": {},
     "source": [
      "Next, we are fortunate to be able to reduce the number of images we scan, because Bill's DVID ingestion script tells us which plane ranges have problems. That error log is in the same folder as this notebook."
     ]
    },
    {
     "cell_type": "code",
     "collapsed": false,
     "input": [
      "# read it in before the default working dir changes:\n",
      "errorfilename = \"DVIDerrors-2014.txt\"\n",
      "errordata = open(errorfilename, 'rt').readlines()"
     ],
     "language": "python",
     "metadata": {},
     "outputs": [],
     "prompt_number": 8
    },
    {
     "cell_type": "code",
     "collapsed": false,
     "input": [
      "errordata[:4]"
     ],
     "language": "python",
     "metadata": {},
     "outputs": [
      {
       "metadata": {},
       "output_type": "pyout",
       "prompt_number": 9,
       "text": [
        "['2014/07/17 12:35:54 No mapping found for 0000128d000062ef (slice 4749) in block with Z 4736 to 4767\\n',\n",
        " \"2014/07/17 12:35:54 Aborting processing of 'superpixels' chunk using 'sp2body' labelmap\\n\",\n",
        " '2014/07/17 12:35:54 No mapping found for 0000128d000062ef (slice 4749) in block with Z 4736 to 4767\\n',\n",
        " \"2014/07/17 12:35:54 Aborting processing of 'superpixels' chunk using 'sp2body' labelmap\\n\"]"
       ]
      }
     ],
     "prompt_number": 9
    },
    {
     "cell_type": "markdown",
     "metadata": {},
     "source": [
      "Bill notes that DVID processing for a block stops at an error, so we need to scan whole blocks of planes, not just the specifically noted planes. In other words, we need to extract the \"4736 to 4767\" parts and generate a list of planes."
     ]
    },
    {
     "cell_type": "code",
     "collapsed": false,
     "input": [
      "# who needs elegant regexes when you have brute force...\n",
      "planes = set()\n",
      "for line in errordata:\n",
      "    if \"No mapping\" in line:\n",
      "        line = line.strip()\n",
      "        items = line.split()\n",
      "        z1 = int(items[-3])\n",
      "        z2 = int(items[-1])\n",
      "        planes = planes.union(range(z1, z2 + 1))"
     ],
     "language": "python",
     "metadata": {},
     "outputs": [],
     "prompt_number": 10
    },
    {
     "cell_type": "code",
     "collapsed": false,
     "input": [
      "len(planes)"
     ],
     "language": "python",
     "metadata": {},
     "outputs": [
      {
       "metadata": {},
       "output_type": "pyout",
       "prompt_number": 11,
       "text": [
        "128"
       ]
      }
     ],
     "prompt_number": 11
    },
    {
     "cell_type": "markdown",
     "metadata": {},
     "source": [
      "As expected, that's a multiple of 32, our block size."
     ]
    },
    {
     "cell_type": "heading",
     "level": 3,
     "metadata": {},
     "source": [
      "Scan image planes"
     ]
    },
    {
     "cell_type": "markdown",
     "metadata": {},
     "source": [
      "First task is to scan the image planes. "
     ]
    },
    {
     "cell_type": "code",
     "collapsed": false,
     "input": [
      "maxsponplane = {}\n",
      "print time.asctime()\n",
      "for z in planes:\n",
      "    imagepath = os.path.join(imagedir, \"superpixel_maps\", \"sp_map.%05d.png\" % z)\n",
      "    data = readsuperpixelmap(imagepath)\n",
      "    maxsponplane[z] = data.max()\n",
      "print time.asctime()"
     ],
     "language": "python",
     "metadata": {},
     "outputs": [
      {
       "output_type": "stream",
       "stream": "stdout",
       "text": [
        "Tue Aug  5 14:43:43 2014\n",
        "Tue Aug  5 14:47:29 2014"
       ]
      },
      {
       "output_type": "stream",
       "stream": "stdout",
       "text": [
        "\n"
       ]
      }
     ],
     "prompt_number": 12
    },
    {
     "cell_type": "code",
     "collapsed": false,
     "input": [
      "print len(maxsponplane)"
     ],
     "language": "python",
     "metadata": {},
     "outputs": [
      {
       "output_type": "stream",
       "stream": "stdout",
       "text": [
        "128\n"
       ]
      }
     ],
     "prompt_number": 13
    },
    {
     "cell_type": "heading",
     "level": 3,
     "metadata": {},
     "source": [
      "Adjust maps"
     ]
    },
    {
     "cell_type": "markdown",
     "metadata": {},
     "source": [
      "Next, read the sp-seg map and identify which sp don't appear. This file is big, and this can take time to parse"
     ]
    },
    {
     "cell_type": "code",
     "collapsed": false,
     "input": [
      "print time.asctime()\n",
      "maxspinmap = findmaxsuperpixels(os.path.join(exportdir, \"superpixel_to_segment_map.txt\"))\n",
      "print time.asctime()"
     ],
     "language": "python",
     "metadata": {},
     "outputs": [
      {
       "output_type": "stream",
       "stream": "stdout",
       "text": [
        "Tue Aug  5 14:48:34 2014\n",
        "Tue Aug  5 14:55:55 2014"
       ]
      },
      {
       "output_type": "stream",
       "stream": "stdout",
       "text": [
        "\n"
       ]
      }
     ],
     "prompt_number": 14
    },
    {
     "cell_type": "code",
     "collapsed": false,
     "input": [
      "print len(maxspinmap)"
     ],
     "language": "python",
     "metadata": {},
     "outputs": [
      {
       "output_type": "stream",
       "stream": "stdout",
       "text": [
        "8090\n"
       ]
      }
     ],
     "prompt_number": 15
    },
    {
     "cell_type": "markdown",
     "metadata": {},
     "source": [
      "Likewise the seg-body map:"
     ]
    },
    {
     "cell_type": "code",
     "collapsed": false,
     "input": [
      "print time.asctime()\n",
      "maxseg, maxbody = findmaxsegbody(os.path.join(exportdir, \"segment_to_body_map.txt\"))\n",
      "print maxseg, maxbody\n",
      "print time.asctime()"
     ],
     "language": "python",
     "metadata": {},
     "outputs": [
      {
       "output_type": "stream",
       "stream": "stdout",
       "text": [
        "Tue Aug  5 14:56:02 2014\n",
        "78160114"
       ]
      },
      {
       "output_type": "stream",
       "stream": "stdout",
       "text": [
        " 8900180\n",
        "Tue Aug  5 14:59:55 2014\n"
       ]
      }
     ],
     "prompt_number": 16
    },
    {
     "cell_type": "markdown",
     "metadata": {},
     "source": [
      "Now finish it up. Compare the max sp found in the images vs. the ones found in the text file maps. For each one missing from the map, create a new seg and body and related mappings. Review them before writing them."
     ]
    },
    {
     "cell_type": "code",
     "collapsed": false,
     "input": [
      "newspmap, newsegmap = findnewmappings(maxsponplane, maxspinmap, maxseg, maxbody)"
     ],
     "language": "python",
     "metadata": {},
     "outputs": [],
     "prompt_number": 17
    },
    {
     "cell_type": "markdown",
     "metadata": {},
     "source": [
      "Upon examination, those look plausible."
     ]
    },
    {
     "cell_type": "heading",
     "level": 3,
     "metadata": {},
     "source": [
      "Write maps"
     ]
    },
    {
     "cell_type": "markdown",
     "metadata": {},
     "source": [
      "Last step: append those mappings to the end of the existing files. This has been tested with empty files."
     ]
    },
    {
     "cell_type": "code",
     "collapsed": false,
     "input": [
      "appendspmapping(os.path.join(exportdir, \"superpixel_to_segment_map.txt\"), newspmap)\n",
      "appendsegmapping(os.path.join(exportdir, \"segment_to_body_map.txt\"), newsegmap)"
     ],
     "language": "python",
     "metadata": {},
     "outputs": [],
     "prompt_number": 19
    },
    {
     "cell_type": "heading",
     "level": 3,
     "metadata": {},
     "source": [
      "FIB-25 August 2014 -- from export, v2"
     ]
    },
    {
     "cell_type": "markdown",
     "metadata": {},
     "source": [
      "Turns out we need to work from a later export, and Bill's error list will not give us the planes we need to scan. These are the directories we care about, the export and the seesion:"
     ]
    },
    {
     "cell_type": "code",
     "collapsed": true,
     "input": [
      "exportdir = \"/groups/flyem/data/medulla-FIB-Z1211-25-production/align2/stitched_layers/export/shinya1-13_20140815/\"\n",
      "sessiondir = \"/groups/flyem/data/medulla-FIB-Z1211-25-production/align2/stitched_layers/session/shinya1-13_20140522_extended-ST3/\""
     ],
     "language": "python",
     "metadata": {},
     "outputs": [],
     "prompt_number": 8
    },
    {
     "cell_type": "markdown",
     "metadata": {},
     "source": [
      "Even though we don't work on the session directly, we need to get the modified planes from it rather than some other source (like a DVID error log)."
     ]
    },
    {
     "cell_type": "code",
     "collapsed": false,
     "input": [
      "modplanes = findmodifiedplanes(sessiondir)\n",
      "print len(modplanes)"
     ],
     "language": "python",
     "metadata": {},
     "outputs": [
      {
       "output_type": "stream",
       "stream": "stdout",
       "text": [
        "3751\n"
       ]
      }
     ],
     "prompt_number": 9
    },
    {
     "cell_type": "markdown",
     "metadata": {},
     "source": [
      "Ugh, that's almost half of them! Even so, we now just proceed like the first version. "
     ]
    },
    {
     "cell_type": "markdown",
     "metadata": {},
     "source": [
      "First, preserve the sp to seg and seg to body maps for safety (.orig suffix). I didn't do that in this notebook because it should not be repeated later. Note that these files are rather large (2-3 Gb)."
     ]
    },
    {
     "cell_type": "heading",
     "level": 3,
     "metadata": {},
     "source": [
      "Scan image planes"
     ]
    },
    {
     "cell_type": "markdown",
     "metadata": {},
     "source": [
      "First version and some testing shows this takes about 2-3s per plane. So for 3700, allow 3+ hours."
     ]
    },
    {
     "cell_type": "code",
     "collapsed": false,
     "input": [
      "maxsponplane = {}\n",
      "print time.asctime()\n",
      "for z in modplanes:\n",
      "    imagepath = os.path.join(exportdir, \"superpixel_maps\", \"sp_map.%05d.png\" % z)\n",
      "    data = readsuperpixelmap(imagepath)\n",
      "    maxsponplane[z] = data.max()\n",
      "print time.asctime()"
     ],
     "language": "python",
     "metadata": {},
     "outputs": [
      {
       "output_type": "stream",
       "stream": "stdout",
       "text": [
        "Thu Aug 21 07:42:44 2014\n",
        "Thu Aug 21 09:40:36 2014"
       ]
      },
      {
       "output_type": "stream",
       "stream": "stdout",
       "text": [
        "\n"
       ]
      }
     ],
     "prompt_number": 10
    },
    {
     "cell_type": "code",
     "collapsed": false,
     "input": [
      "print len(maxsponplane)"
     ],
     "language": "python",
     "metadata": {},
     "outputs": [
      {
       "output_type": "stream",
       "stream": "stdout",
       "text": [
        "3751\n"
       ]
      }
     ],
     "prompt_number": 11
    },
    {
     "cell_type": "heading",
     "level": 3,
     "metadata": {},
     "source": [
      "Adjust maps"
     ]
    },
    {
     "cell_type": "markdown",
     "metadata": {},
     "source": [
      "Next, read the sp-seg map and identify which sp don't appear. This file is big, and this can take time to parse"
     ]
    },
    {
     "cell_type": "code",
     "collapsed": false,
     "input": [
      "print time.asctime()\n",
      "maxspinmap = findmaxsuperpixels(os.path.join(exportdir, \"superpixel_to_segment_map.txt\"))\n",
      "print time.asctime()"
     ],
     "language": "python",
     "metadata": {},
     "outputs": [
      {
       "output_type": "stream",
       "stream": "stdout",
       "text": [
        "Thu Aug 21 09:44:27 2014\n",
        "Thu Aug 21 09:52:29 2014"
       ]
      },
      {
       "output_type": "stream",
       "stream": "stdout",
       "text": [
        "\n"
       ]
      }
     ],
     "prompt_number": 12
    },
    {
     "cell_type": "code",
     "collapsed": false,
     "input": [
      "print len(maxspinmap)"
     ],
     "language": "python",
     "metadata": {},
     "outputs": [
      {
       "output_type": "stream",
       "stream": "stdout",
       "text": [
        "8090\n"
       ]
      }
     ],
     "prompt_number": 13
    },
    {
     "cell_type": "code",
     "collapsed": false,
     "input": [
      "print time.asctime()\n",
      "maxseg, maxbody = findmaxsegbody(os.path.join(exportdir, \"segment_to_body_map.txt\"))\n",
      "print maxseg, maxbody\n",
      "print time.asctime()"
     ],
     "language": "python",
     "metadata": {},
     "outputs": [
      {
       "output_type": "stream",
       "stream": "stdout",
       "text": [
        "Thu Aug 21 09:54:57 2014\n",
        "78267490"
       ]
      },
      {
       "output_type": "stream",
       "stream": "stdout",
       "text": [
        " 8915777\n",
        "Thu Aug 21 09:58:56 2014\n"
       ]
      }
     ],
     "prompt_number": 14
    },
    {
     "cell_type": "markdown",
     "metadata": {},
     "source": [
      "Now finish it up. Compare the max sp found in the images vs. the ones found in the text file maps. For each one missing from the map, create a new seg and body and related mappings. Review them before writing them."
     ]
    },
    {
     "cell_type": "code",
     "collapsed": false,
     "input": [
      "newspmap, newsegmap = findnewmappings(maxsponplane, maxspinmap, maxseg, maxbody)"
     ],
     "language": "python",
     "metadata": {},
     "outputs": [],
     "prompt_number": 15
    },
    {
     "cell_type": "markdown",
     "metadata": {},
     "source": [
      "At a quick glance, they look plausible."
     ]
    },
    {
     "cell_type": "heading",
     "level": 3,
     "metadata": {},
     "source": [
      "Write maps"
     ]
    },
    {
     "cell_type": "markdown",
     "metadata": {},
     "source": [
      "Last step: append those mappings to the end of the existing files. This has been tested with empty files."
     ]
    },
    {
     "cell_type": "code",
     "collapsed": false,
     "input": [
      "appendspmapping(os.path.join(exportdir, \"superpixel_to_segment_map.txt\"), newspmap)\n",
      "appendsegmapping(os.path.join(exportdir, \"segment_to_body_map.txt\"), newsegmap)"
     ],
     "language": "python",
     "metadata": {},
     "outputs": [],
     "prompt_number": 19
    }
   ],
   "metadata": {}
  }
 ]
}